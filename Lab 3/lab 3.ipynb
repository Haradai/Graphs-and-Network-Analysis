{
 "cells": [
  {
   "cell_type": "code",
   "execution_count": 1,
   "metadata": {},
   "outputs": [],
   "source": [
    "import networkx as nx\n",
    "import networkx as nx"
   ]
  },
  {
   "cell_type": "code",
   "execution_count": null,
   "metadata": {},
   "outputs": [],
   "source": [
    "def num_common_nodes(*args):\n",
    "    \"\"\"\n",
    "    Return the number of common nodes between a set of graphs.\n",
    "\n",
    "    :param args: (an undetermined number of) networkx graphs.\n",
    "    :return: an integer, number of common nodes.\n",
    "    \"\"\"\n",
    "    common_nodes = set(args[0].nodes())\n",
    "\n",
    "    for graph in args[1:]:\n",
    "        common_nodes.intersection_update(graph.nodes())\n",
    "        \n",
    "    return len(common_nodes)\n"
   ]
  },
  {
   "cell_type": "code",
   "execution_count": 6,
   "metadata": {},
   "outputs": [],
   "source": [
    "def get_degree_distribution(g: nx.Graph) -> dict:\n",
    "    \"\"\"\n",
    "    Get the degree distribution of the graph.\n",
    "\n",
    "    :param g: networkx graph.\n",
    "    :return: dictionary with degree distribution (keys are degrees, values are number of occurrences).\n",
    "\n",
    "    \"\"\"\n",
    "    degree_distr = {}\n",
    "\n",
    "    for node in g.nodes():\n",
    "        degree = g.degree(node)\n",
    "\n",
    "        if degree in degree_distr:\n",
    "            degree_distr[degree] += 1\n",
    "            \n",
    "        else:\n",
    "            degree_distr[degree] = 1\n",
    "\n",
    "    return degree_distr"
   ]
  },
  {
   "cell_type": "code",
   "execution_count": 22,
   "metadata": {},
   "outputs": [],
   "source": [
    "\n",
    "def get_k_most_central(g: nx.Graph, metric: str, num_nodes: int) -> list:\n",
    "    \"\"\"\n",
    "    Get the k most central nodes in the graph.\n",
    "\n",
    "    :param g: networkx graph.\n",
    "    :param metric: centrality metric. Can be (at least) 'degree', 'betweenness', 'closeness' or 'eigenvector'.\n",
    "    :param num_nodes: number of nodes to return.\n",
    "    :return: list with the top num_nodes nodes with the specified centrality. \n",
    "\n",
    "    \"\"\"\n",
    "    centrality = None\n",
    "    if metric == 'degree':\n",
    "        centrality = nx.degree_centrality(g)\n",
    "    elif metric == 'betweenness':\n",
    "        centrality = nx.betweenness_centrality(g)\n",
    "    elif metric == 'closeness':\n",
    "        centrality = nx.closeness_centrality(g)\n",
    "    elif metric == 'eigenvector':\n",
    "        centrality = nx.eigenvector_centrality(g)\n",
    "    else:\n",
    "        raise ValueError(\"Invalid centrality metric. Must be one of 'degree', 'betweenness', 'closeness', or 'eigenvector'.\")\n",
    "\n",
    "    sorted_nodes = sorted(centrality, key=lambda x: centrality[x],reverse=True)[:num_nodes]\n",
    "\n",
    "    return sorted_nodes\n",
    "    "
   ]
  },
  {
   "cell_type": "code",
   "execution_count": 8,
   "metadata": {},
   "outputs": [],
   "source": [
    "import networkx as nx\n",
    "import random\n"
   ]
  },
  {
   "cell_type": "code",
   "execution_count": 9,
   "metadata": {},
   "outputs": [],
   "source": [
    "n = 100  # Number of nodes\n",
    "p = 0.2  # Probability of edge creation\n",
    "\n",
    "random_graph = nx.erdos_renyi_graph(n, p)"
   ]
  },
  {
   "cell_type": "code",
   "execution_count": 10,
   "metadata": {},
   "outputs": [],
   "source": [
    "degree_centrality = nx.degree_centrality(random_graph)"
   ]
  },
  {
   "cell_type": "code",
   "execution_count": 18,
   "metadata": {},
   "outputs": [
    {
     "data": {
      "text/plain": [
       "0.30303030303030304"
      ]
     },
     "execution_count": 18,
     "metadata": {},
     "output_type": "execute_result"
    }
   ],
   "source": [
    "degree_centrality[14]"
   ]
  },
  {
   "cell_type": "code",
   "execution_count": 23,
   "metadata": {},
   "outputs": [
    {
     "data": {
      "text/plain": [
       "[14, 80, 40]"
      ]
     },
     "execution_count": 23,
     "metadata": {},
     "output_type": "execute_result"
    }
   ],
   "source": [
    "get_k_most_central(random_graph,\"degree\",3)"
   ]
  },
  {
   "cell_type": "code",
   "execution_count": 24,
   "metadata": {},
   "outputs": [],
   "source": [
    "import networkx as nx\n",
    "\n",
    "def find_cliques(g: nx.Graph, min_size_clique: int) -> tuple:\n",
    "    \"\"\"\n",
    "    Find cliques in the graph g with size at least min_size_clique.\n",
    "\n",
    "    :param g: networkx graph.\n",
    "    :param min_size_clique: minimum size of the cliques to find.\n",
    "    :return: two-element tuple, list of cliques (each clique is a list of nodes) and\n",
    "        list of nodes in any of the cliques.\n",
    "    \"\"\"\n",
    "    cliques = [clique for clique in nx.find_cliques(g) if len(clique) >= min_size_clique] # ? len(clique) \n",
    "    nodes_in_cliques = list(set(node for clique in cliques for node in clique))\n",
    "\n",
    "    return cliques, nodes_in_cliques\n"
   ]
  },
  {
   "cell_type": "code",
   "execution_count": 29,
   "metadata": {},
   "outputs": [
    {
     "data": {
      "text/plain": [
       "([[9, 79, 84, 20, 55], [12, 40, 68, 89, 41]],\n",
       " [68, 40, 9, 41, 12, 79, 84, 20, 55, 89])"
      ]
     },
     "execution_count": 29,
     "metadata": {},
     "output_type": "execute_result"
    }
   ],
   "source": [
    "find_cliques(random_graph,5)"
   ]
  },
  {
   "cell_type": "code",
   "execution_count": 43,
   "metadata": {},
   "outputs": [],
   "source": [
    "import networkx as nx\n",
    "\n",
    "def detect_communities(g: nx.Graph, method: str, **kwargs) -> tuple:\n",
    "    \"\"\"\n",
    "    Detect communities in the graph g using the specified method.\n",
    "\n",
    "    :param g: a networkx graph.\n",
    "    :param method: string with the name of the method to use. Can be (at least) 'girvan-newman' or 'louvain'.\n",
    "    :param kwargs: additional keyword arguments for the community detection algorithm.\n",
    "    :return: two-element tuple, list of communities (each community is a list of nodes) and modularity of the partition.\n",
    "\n",
    "    \"\"\"\n",
    "    communities = []\n",
    "    modularity = None #To return something if invalid method \n",
    "\n",
    "    if method == 'girvan-newman':\n",
    "        communities_generator = nx.community.girvan_newman(g)\n",
    "        communities = next(communities_generator)\n",
    "        modularity = nx.community.modularity(g, communities)\n",
    "\n",
    "    elif method == 'louvain':\n",
    "        partition = nx.community.louvain_communities(g)\n",
    "        communities = list(nx.community.louvain_communities(g, **kwargs))\n",
    "        modularity = nx.community.modularity(g, communities)\n",
    "    else:\n",
    "        raise ValueError(\"Invalid community detection method. Must be one of 'girvan-newman' or 'louvain'.\")\n",
    "\n",
    "    return communities, modularity\n"
   ]
  },
  {
   "cell_type": "code",
   "execution_count": 50,
   "metadata": {},
   "outputs": [
    {
     "data": {
      "text/plain": [
       "tuple"
      ]
     },
     "execution_count": 50,
     "metadata": {},
     "output_type": "execute_result"
    }
   ],
   "source": [
    "type(detect_communities(random_graph, \"girvan-newman\")[0])"
   ]
  }
 ],
 "metadata": {
  "kernelspec": {
   "display_name": "Python 3",
   "language": "python",
   "name": "python3"
  },
  "language_info": {
   "codemirror_mode": {
    "name": "ipython",
    "version": 3
   },
   "file_extension": ".py",
   "mimetype": "text/x-python",
   "name": "python",
   "nbconvert_exporter": "python",
   "pygments_lexer": "ipython3",
   "version": "3.9.13"
  },
  "orig_nbformat": 4
 },
 "nbformat": 4,
 "nbformat_minor": 2
}
