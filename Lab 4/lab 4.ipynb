{
 "cells": [
  {
   "cell_type": "code",
   "execution_count": 3,
   "metadata": {},
   "outputs": [],
   "source": [
    "import matplotlib.pyplot as plt"
   ]
  },
  {
   "cell_type": "code",
   "execution_count": 1,
   "metadata": {},
   "outputs": [],
   "source": [
    "degree = {1:23,2:34,3:15}"
   ]
  },
  {
   "cell_type": "code",
   "execution_count": 21,
   "metadata": {},
   "outputs": [],
   "source": [
    "def plot_degree_distribution(degree_dict: dict, normalized: bool = False, loglog: bool = False) -> None:\n",
    "    \"\"\"\n",
    "    Plot degree distribution from dictionary of degree counts.\n",
    "\n",
    "    :param degree_dict: dictionary of degree counts (keys are degrees, values are occurrences).\n",
    "    :param normalized: boolean indicating whether to plot absolute counts or probabilities.\n",
    "    :param loglog: boolean indicating whether to plot in log-log scale.\n",
    "    \n",
    "    \"\"\"\n",
    "    degrees = list(degree_dict.keys())\n",
    "    counts = list(degree_dict.values())\n",
    "\n",
    "    if normalized:\n",
    "        total_count = sum(counts)\n",
    "        probabilities = [count / total_count for count in counts]\n",
    "        counts = probabilities\n",
    "\n",
    "    plt.figure()\n",
    "    if loglog:\n",
    "        plt.loglog(degrees, counts, 'o')\n",
    "        plt.xlabel('Degree (log scale)')\n",
    "        plt.ylabel('Count/Probability (log scale)')\n",
    "\n",
    "    else:\n",
    "        plt.plot(degrees, counts, 'o')\n",
    "        plt.xlabel('Degree')\n",
    "        plt.ylabel('Count/Probability')\n",
    "\n",
    "    plt.title('Degree Distribution')\n",
    "    plt.show()\n"
   ]
  },
  {
   "cell_type": "code",
   "execution_count": 24,
   "metadata": {},
   "outputs": [
    {
     "data": {
      "image/png": "[encoded data removed]",
      "text/plain": [
       "<Figure size 432x288 with 1 Axes>"
      ]
     },
     "metadata": {
      "needs_background": "light"
     },
     "output_type": "display_data"
    }
   ],
   "source": [
    "plot_degree_distribution(degree, normalized= True,loglog=False)"
   ]
  },
  {
   "cell_type": "code",
   "execution_count": 26,
   "metadata": {},
   "outputs": [],
   "source": [
    "import matplotlib.pyplot as plt\n",
    "import pandas as pd\n",
    "\n",
    "def plot_audio_features(artists_audio_feat: pd.DataFrame, artist1_id: str, artist2_id: str) -> None:\n",
    "    \"\"\"\n",
    "    Plot a (single) figure with a plot of mean audio features of two different artists.\n",
    "\n",
    "    :param artists_audio_feat: dataframe with mean audio features of artists.\n",
    "    :param artist1_id: string with id of artist 1.\n",
    "    :param artist2_id: string with id of artist 2.\n",
    "    :return: None\n",
    "    \"\"\"\n",
    "    artist1_features = artists_audio_feat.loc[artists_audio_feat['artist_id'] == artist1_id].iloc[:, 1:] #Take audio features from artitst\n",
    "    artist2_features = artists_audio_feat.loc[artists_audio_feat['artist_id'] == artist2_id].iloc[:, 1:]\n",
    "\n",
    "    num_features = len(artist1_features.columns)\n",
    "    feature_labels = artist1_features.columns\n",
    "\n",
    "    fig, ax = plt.subplots(figsize=(10, 6))\n",
    "    index = range(num_features)\n",
    "    bar_width = 0.35\n",
    "\n",
    "    # Plotting artist 1\n",
    "    rects1 = ax.bar(index, artist1_features.values.flatten(), bar_width, label=artist1_id)\n",
    "\n",
    "    # Plotting artist 2\n",
    "    rects2 = ax.bar(index + bar_width, artist2_features.values.flatten(), bar_width, label=artist2_id)\n",
    "\n",
    "    ax.set_xlabel('Audio Feature')\n",
    "    ax.set_ylabel('Mean Value')\n",
    "    ax.set_title('Comparison of Audio Features')\n",
    "    ax.set_xticks(index + bar_width / 2)\n",
    "    ax.set_xticklabels(feature_labels)\n",
    "    ax.legend()\n",
    "\n",
    "    plt.tight_layout()\n",
    "    plt.show()"
   ]
  }
 ],
 "metadata": {
  "kernelspec": {
   "display_name": "Python 3",
   "language": "python",
   "name": "python3"
  },
  "language_info": {
   "codemirror_mode": {
    "name": "ipython",
    "version": 3
   },
   "file_extension": ".py",
   "mimetype": "text/x-python",
   "name": "python",
   "nbconvert_exporter": "python",
   "pygments_lexer": "ipython3",
   "version": "3.9.13"
  },
  "orig_nbformat": 4
 },
 "nbformat": 4,
 "nbformat_minor": 2
}
