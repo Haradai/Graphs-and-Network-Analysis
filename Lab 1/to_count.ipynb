{
 "cells": [
  {
   "cell_type": "code",
   "execution_count": 6,
   "metadata": {},
   "outputs": [
    {
     "name": "stdout",
     "output_type": "stream",
     "text": [
      "Number of different artists: 338\n",
      "Number of different songs: 3120\n",
      "Number of different albums: 3120\n"
     ]
    }
   ],
   "source": [
    "import csv\n",
    "\n",
    "# Specify the path to your CSV file\n",
    "csv_file_path = 'D.csv'\n",
    "\n",
    "# Create sets to store unique artists and songs\n",
    "unique_artists = set()\n",
    "unique_songs = set()\n",
    "unique_albums = set()\n",
    "\n",
    "# Open the CSV file\n",
    "with open(csv_file_path,encoding='utf-8' ) as file:\n",
    "    # Create a CSV reader object\n",
    "    csv_reader = csv.reader(file)\n",
    "\n",
    "    # Iterate over each row in the CSV file\n",
    "    for row in csv_reader:\n",
    "        artist = row[0]\n",
    "        song = row[2]\n",
    "        album = row[15]\n",
    "        \n",
    "        # Add artist and song to respective sets\n",
    "        unique_artists.add(artist)\n",
    "        unique_songs.add(song)\n",
    "        unique_albums.add(album)\n",
    "\n",
    "# Count the number of unique artists and songs\n",
    "num_artists = len(unique_artists)\n",
    "num_songs = len(unique_songs)\n",
    "\n",
    "# Print the results\n",
    "print(\"Number of different artists:\", num_artists)\n",
    "print(\"Number of different songs:\", num_songs)\n",
    "print(\"Number of different albums:\", num_songs)"
   ]
  },
  {
   "cell_type": "code",
   "execution_count": 14,
   "metadata": {},
   "outputs": [
    {
     "name": "stdout",
     "output_type": "stream",
     "text": [
      "Number of different artists: 338\n",
      "Number of different songs: 3120\n",
      "Number of shared songs: 57\n"
     ]
    }
   ],
   "source": [
    "unique_artists = set()\n",
    "unique_songs = set()\n",
    "shared_songs = set()\n",
    "\n",
    "\n",
    "with open(csv_file_path,encoding='utf-8' ) as file:\n",
    "    # Create a CSV reader object\n",
    "    csv_reader = csv.reader(file)\n",
    "    for row in csv_reader:\n",
    "        artist = row[0]\n",
    "        song = row[2]\n",
    "        \n",
    "        # Check if the song already exists with a different artist\n",
    "        if song in unique_songs and artist not in unique_artists:\n",
    "            shared_songs.add(song)    \n",
    "        else:\n",
    "            unique_artists.add(artist)\n",
    "            unique_songs.add(song)\n",
    "\n",
    "\n",
    "num_artists = len(unique_artists)\n",
    "num_songs = len(unique_songs)\n",
    "num_shared_songs = len(shared_songs)\n",
    "\n",
    "print(\"Number of different artists:\", num_artists)\n",
    "print(\"Number of different songs:\", num_songs)\n",
    "print(\"Number of shared songs:\", num_shared_songs)"
   ]
  },
  {
   "cell_type": "code",
   "execution_count": 15,
   "metadata": {},
   "outputs": [],
   "source": [
    "artists_shared_songs = {}\n",
    "\n",
    "with open(csv_file_path,encoding='utf-8' ) as file:\n",
    "    # Create a CSV reader object\n",
    "    csv_reader = csv.reader(file)\n",
    "    for row in csv_reader:\n",
    "        artist = row[0]\n",
    "        song = row[2]\n",
    "\n",
    "        if song in shared_songs:\n",
    "            artists_shared_songs.setdefault(song, []).append(artist)"
   ]
  },
  {
   "cell_type": "code",
   "execution_count": 16,
   "metadata": {},
   "outputs": [
    {
     "data": {
      "text/plain": [
       "{\"Don't Like.1\": ['Big Sean', 'Pusha T', 'Jadakiss', 'Big Sean', 'Jadakiss'],\n",
       " 'All My Life (feat. J. Cole)': ['J. Cole', 'Lil Durk', 'J. Cole'],\n",
       " 'Superhero (Heroes & Villains) [with Future & Chris Brown]': ['Future',\n",
       "  'Metro Boomin',\n",
       "  'Future'],\n",
       " 'Too Many Nights (feat. Don Toliver & with Future)': ['Future',\n",
       "  'Metro Boomin',\n",
       "  'Future'],\n",
       " 'Private Landing (feat. Justin Bieber & Future)': ['Future',\n",
       "  'Don Toliver',\n",
       "  'Future'],\n",
       " 'Trance (with Travis Scott & Young Thug)': ['Young Thug',\n",
       "  'Metro Boomin',\n",
       "  'Young Thug'],\n",
       " \"Creepin' (with The Weeknd & 21 Savage)\": ['21 Savage',\n",
       "  'Metro Boomin',\n",
       "  '21 Savage'],\n",
       " 'Glock In My Lap': ['21 Savage', 'Metro Boomin', '21 Savage'],\n",
       " 'Niagara Falls (Foot or 2) [with Travis Scott & 21 Savage]': ['21 Savage',\n",
       "  'Metro Boomin',\n",
       "  '21 Savage'],\n",
       " 'Drip Too Hard (Lil Baby & Gunna)': ['Gunna', 'Lil Baby', 'Gunna'],\n",
       " 'Peso a Peso': ['Quavo', 'Rich The Kid', 'Quavo'],\n",
       " 'Saint': ['Quavo', 'Huncho Jack', 'Quavo'],\n",
       " 'WUSYANAME (feat. Youngboy Never Broke Again & Ty Dolla $ign)': ['Ty Dolla $ign',\n",
       "  'YoungBoy Never Broke Again',\n",
       "  'Ty Dolla $ign'],\n",
       " 'WAM': ['A$AP Ferg', 'MadeinTYO', 'A$AP Ferg'],\n",
       " 'Double Up (feat. Belly and Dom Kennedy)': ['Nipsey Hussle',\n",
       "  'Dom Kennedy',\n",
       "  'Dom Kennedy',\n",
       "  'Nipsey Hussle'],\n",
       " 'Walk It Out': ['Jim Jones', 'Jim Jones', 'Unk', 'Unk', 'Unk'],\n",
       " 'Who Want Smoke?? (feat. G Herbo, Lil Durk & 21 Savage)': ['Lil Durk',\n",
       "  'G Herbo'],\n",
       " 'Comfortable': ['H.E.R.', 'K CAMP', 'K CAMP'],\n",
       " 'You': ['Jacquees', 'Lloyd', 'Lloyd'],\n",
       " 'Na Na': ['Trey Songz', 'J. Futuristic'],\n",
       " 'Eye 2 Eye': ['Huncho Jack', 'Yung Bans'],\n",
       " 'Anytime': ['Slim Thug', 'Slim Thug', 'Killa Kyleon'],\n",
       " 'Water': ['Slim Thug', 'Ugly God', 'Slim Thug'],\n",
       " 'Baby (Lil Baby feat. DaBaby)': ['Lil Baby', 'Quality Control', 'DaBaby'],\n",
       " 'Ric Flair Drip (with Metro Boomin)': ['Metro Boomin', 'Offset'],\n",
       " 'White Girl': ['Shy Glizzy', 'U.S.D.A.'],\n",
       " 'No Hook': ['YBN Nahmir', 'Almighty Jay', 'OJ Da Juiceman'],\n",
       " \"Still Movin' (feat. Fivio Foreign & Jay Critch)\": ['Rich The Kid',\n",
       "  'Jay Critch'],\n",
       " 'Sticky Rice (feat. Germ)': ['Lil Gnar', 'MadeinTYO'],\n",
       " 'Run It Up (feat. Offset & Moneybagg Yo)': ['Offset', 'Moneybagg Yo'],\n",
       " \"Ain't I\": ['OJ Da Juiceman', 'Yung L.A.'],\n",
       " 'Any Nigga': ['Yung L.A.', 'J. Futuristic'],\n",
       " 'Hoody Hooo': ['C-Murder', 'Silkk The Shocker', 'Master P', 'TRU'],\n",
       " \"I'm Bout It, Bout It\": ['C-Murder',\n",
       "  'Silkk The Shocker',\n",
       "  'Master P',\n",
       "  'Mia X',\n",
       "  'TRU'],\n",
       " 'Ghetto Symphony': ['C-Murder', 'Silkk The Shocker', 'Mia X', 'Fiend'],\n",
       " \"You Don't Want Drama\": ['8Ball', 'MJG'],\n",
       " 'Just Like Candy': ['8Ball', 'MJG'],\n",
       " 'Throw Your Hands Up': ['8Ball', 'MJG'],\n",
       " 'Life Goes On': ['8Ball', 'MJG'],\n",
       " 'Roll with Me (feat. Faith Evans)': ['8Ball', 'MJG'],\n",
       " 'Bring It Back': ['8Ball', 'MJG'],\n",
       " 'Paid Dues': ['8Ball', 'MJG'],\n",
       " \"Sho'nuff\": ['8Ball', 'MJG'],\n",
       " 'How Ya Do Dat': ['Silkk The Shocker',\n",
       "  'Young Bleed',\n",
       "  'Master P',\n",
       "  'C-Loc',\n",
       "  \"Steady Mobb'n\"],\n",
       " 'If I Could Change': ['Silkk The Shocker',\n",
       "  'Young Bleed',\n",
       "  'C-Loc',\n",
       "  \"Steady Mobb'n\"],\n",
       " \"I'm A Soldier\": ['Silkk The Shocker', 'Mia X', 'Fiend', 'Mac', 'Big Ed'],\n",
       " 'Southside Royalty Freestyle (feat. Sauce Walka, Big Pokey, Lil Keke & Mike D)': [\"Lil' Keke\",\n",
       "  'Big Pokey'],\n",
       " '25 Lighters': [\"Lil' Keke\", 'DJ DMD'],\n",
       " 'No Limit Soldiers II': ['Mia X', 'Fiend', 'Mr. Serv-On', 'Big Ed', 'Magic'],\n",
       " 'I Think Somebody': ['Mia X', 'Mr. Serv-On'],\n",
       " 'Talk It How I Bring It': ['Fiend', 'Mr. Serv-On', 'Big Ed'],\n",
       " 'Mr. Whomp Whomp': ['Fiend', 'Mr. Serv-On'],\n",
       " 'Bounce Dat Azz': ['C-Loc', \"Steady Mobb'n\"],\n",
       " \"Don't Mess Around\": ['Mr. Serv-On', 'Big Ed'],\n",
       " 'For The N.O.': ['Mr. Serv-On', 'Big Ed'],\n",
       " \"We're All In The Same Gang\": ['Above The Law', 'MC Ren'],\n",
       " 'Cloverland': ['DJ Screw', 'Botany Boyz', 'Botany Boyz']}"
      ]
     },
     "execution_count": 16,
     "metadata": {},
     "output_type": "execute_result"
    }
   ],
   "source": [
    "artists_shared_songs"
   ]
  }
 ],
 "metadata": {
  "kernelspec": {
   "display_name": "Python 3",
   "language": "python",
   "name": "python3"
  },
  "language_info": {
   "codemirror_mode": {
    "name": "ipython",
    "version": 3
   },
   "file_extension": ".py",
   "mimetype": "text/x-python",
   "name": "python",
   "nbconvert_exporter": "python",
   "pygments_lexer": "ipython3",
   "version": "3.9.13"
  },
  "orig_nbformat": 4
 },
 "nbformat": 4,
 "nbformat_minor": 2
}
